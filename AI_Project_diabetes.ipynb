{
 "cells": [
  {
   "cell_type": "code",
   "execution_count": 31,
   "id": "882f71b7",
   "metadata": {},
   "outputs": [],
   "source": [
    "import pandas as pd\n",
    "import numpy as np\n",
    "import matplotlib.pyplot as plt"
   ]
  },
  {
   "cell_type": "code",
   "execution_count": 32,
   "id": "fb39b48a",
   "metadata": {},
   "outputs": [
    {
     "data": {
      "text/html": [
       "<div>\n",
       "<style scoped>\n",
       "    .dataframe tbody tr th:only-of-type {\n",
       "        vertical-align: middle;\n",
       "    }\n",
       "\n",
       "    .dataframe tbody tr th {\n",
       "        vertical-align: top;\n",
       "    }\n",
       "\n",
       "    .dataframe thead th {\n",
       "        text-align: right;\n",
       "    }\n",
       "</style>\n",
       "<table border=\"1\" class=\"dataframe\">\n",
       "  <thead>\n",
       "    <tr style=\"text-align: right;\">\n",
       "      <th></th>\n",
       "      <th>Pregnancies</th>\n",
       "      <th>Glucose</th>\n",
       "      <th>BloodPressure</th>\n",
       "      <th>SkinThickness</th>\n",
       "      <th>Insulin</th>\n",
       "      <th>BMI</th>\n",
       "      <th>DiabetesPedigreeFunction</th>\n",
       "      <th>Age</th>\n",
       "      <th>Outcome</th>\n",
       "    </tr>\n",
       "  </thead>\n",
       "  <tbody>\n",
       "    <tr>\n",
       "      <th>0</th>\n",
       "      <td>6</td>\n",
       "      <td>148</td>\n",
       "      <td>72</td>\n",
       "      <td>35</td>\n",
       "      <td>0</td>\n",
       "      <td>33.6</td>\n",
       "      <td>0.627</td>\n",
       "      <td>50</td>\n",
       "      <td>1</td>\n",
       "    </tr>\n",
       "    <tr>\n",
       "      <th>1</th>\n",
       "      <td>1</td>\n",
       "      <td>85</td>\n",
       "      <td>66</td>\n",
       "      <td>29</td>\n",
       "      <td>0</td>\n",
       "      <td>26.6</td>\n",
       "      <td>0.351</td>\n",
       "      <td>31</td>\n",
       "      <td>0</td>\n",
       "    </tr>\n",
       "    <tr>\n",
       "      <th>2</th>\n",
       "      <td>8</td>\n",
       "      <td>183</td>\n",
       "      <td>64</td>\n",
       "      <td>0</td>\n",
       "      <td>0</td>\n",
       "      <td>23.3</td>\n",
       "      <td>0.672</td>\n",
       "      <td>32</td>\n",
       "      <td>1</td>\n",
       "    </tr>\n",
       "    <tr>\n",
       "      <th>3</th>\n",
       "      <td>1</td>\n",
       "      <td>89</td>\n",
       "      <td>66</td>\n",
       "      <td>23</td>\n",
       "      <td>94</td>\n",
       "      <td>28.1</td>\n",
       "      <td>0.167</td>\n",
       "      <td>21</td>\n",
       "      <td>0</td>\n",
       "    </tr>\n",
       "    <tr>\n",
       "      <th>4</th>\n",
       "      <td>0</td>\n",
       "      <td>137</td>\n",
       "      <td>40</td>\n",
       "      <td>35</td>\n",
       "      <td>168</td>\n",
       "      <td>43.1</td>\n",
       "      <td>2.288</td>\n",
       "      <td>33</td>\n",
       "      <td>1</td>\n",
       "    </tr>\n",
       "  </tbody>\n",
       "</table>\n",
       "</div>"
      ],
      "text/plain": [
       "   Pregnancies  Glucose  BloodPressure  SkinThickness  Insulin   BMI  \\\n",
       "0            6      148             72             35        0  33.6   \n",
       "1            1       85             66             29        0  26.6   \n",
       "2            8      183             64              0        0  23.3   \n",
       "3            1       89             66             23       94  28.1   \n",
       "4            0      137             40             35      168  43.1   \n",
       "\n",
       "   DiabetesPedigreeFunction  Age  Outcome  \n",
       "0                     0.627   50        1  \n",
       "1                     0.351   31        0  \n",
       "2                     0.672   32        1  \n",
       "3                     0.167   21        0  \n",
       "4                     2.288   33        1  "
      ]
     },
     "execution_count": 32,
     "metadata": {},
     "output_type": "execute_result"
    }
   ],
   "source": [
    "df1 = pd.read_csv('diabetes.csv')\n",
    "df1.head()"
   ]
  },
  {
   "cell_type": "code",
   "execution_count": 33,
   "id": "67102bec",
   "metadata": {},
   "outputs": [
    {
     "data": {
      "text/plain": [
       "(768, 9)"
      ]
     },
     "execution_count": 33,
     "metadata": {},
     "output_type": "execute_result"
    }
   ],
   "source": [
    "df1.shape"
   ]
  },
  {
   "cell_type": "markdown",
   "id": "6cd84742",
   "metadata": {},
   "source": [
    "# STEP-1"
   ]
  },
  {
   "cell_type": "code",
   "execution_count": 34,
   "id": "022cf0ac",
   "metadata": {},
   "outputs": [
    {
     "data": {
      "text/plain": [
       "Pregnancies                 0\n",
       "Glucose                     0\n",
       "BloodPressure               0\n",
       "SkinThickness               0\n",
       "Insulin                     0\n",
       "BMI                         0\n",
       "DiabetesPedigreeFunction    0\n",
       "Age                         0\n",
       "Outcome                     0\n",
       "dtype: int64"
      ]
     },
     "execution_count": 34,
     "metadata": {},
     "output_type": "execute_result"
    }
   ],
   "source": [
    "df1.isnull().sum()"
   ]
  },
  {
   "cell_type": "code",
   "execution_count": 35,
   "id": "0438e291",
   "metadata": {},
   "outputs": [
    {
     "data": {
      "text/plain": [
       "Pregnancies                   int64\n",
       "Glucose                       int64\n",
       "BloodPressure                 int64\n",
       "SkinThickness                 int64\n",
       "Insulin                       int64\n",
       "BMI                         float64\n",
       "DiabetesPedigreeFunction    float64\n",
       "Age                           int64\n",
       "Outcome                       int64\n",
       "dtype: object"
      ]
     },
     "execution_count": 35,
     "metadata": {},
     "output_type": "execute_result"
    }
   ],
   "source": [
    "df1.dtypes"
   ]
  },
  {
   "cell_type": "code",
   "execution_count": 36,
   "id": "bdb4bd3b",
   "metadata": {},
   "outputs": [
    {
     "data": {
      "text/plain": [
       "0    500\n",
       "1    268\n",
       "Name: Outcome, dtype: int64"
      ]
     },
     "execution_count": 36,
     "metadata": {},
     "output_type": "execute_result"
    }
   ],
   "source": [
    "d12 = df1['Outcome'].value_counts()\n",
    "d12"
   ]
  },
  {
   "cell_type": "code",
   "execution_count": 37,
   "id": "65e32291",
   "metadata": {},
   "outputs": [
    {
     "data": {
      "image/png": "[encoded data removed]",
      "text/plain": [
       "<Figure size 432x288 with 1 Axes>"
      ]
     },
     "metadata": {
      "needs_background": "light"
     },
     "output_type": "display_data"
    }
   ],
   "source": [
    "plt.bar(['0','1'],d12.values,color='Green')\n",
    "plt.show()"
   ]
  },
  {
   "cell_type": "code",
   "execution_count": 38,
   "id": "035a3aa2",
   "metadata": {},
   "outputs": [
    {
     "data": {
      "text/plain": [
       "Index(['Pregnancies', 'Glucose', 'BloodPressure', 'SkinThickness', 'Insulin',\n",
       "       'BMI', 'DiabetesPedigreeFunction', 'Age', 'Outcome'],\n",
       "      dtype='object')"
      ]
     },
     "execution_count": 38,
     "metadata": {},
     "output_type": "execute_result"
    }
   ],
   "source": [
    "df1.columns"
   ]
  },
  {
   "cell_type": "code",
   "execution_count": 39,
   "id": "5e18d647",
   "metadata": {},
   "outputs": [
    {
     "data": {
      "text/plain": [
       "1     135\n",
       "0     111\n",
       "2     103\n",
       "3      75\n",
       "4      68\n",
       "5      57\n",
       "6      50\n",
       "7      45\n",
       "8      38\n",
       "9      28\n",
       "10     24\n",
       "11     11\n",
       "13     10\n",
       "12      9\n",
       "14      2\n",
       "15      1\n",
       "17      1\n",
       "Name: Pregnancies, dtype: int64"
      ]
     },
     "execution_count": 39,
     "metadata": {},
     "output_type": "execute_result"
    }
   ],
   "source": [
    "df1['Pregnancies'].value_counts()"
   ]
  },
  {
   "cell_type": "code",
   "execution_count": 40,
   "id": "856850b1",
   "metadata": {},
   "outputs": [
    {
     "data": {
      "text/plain": [
       "Pregnancies  Outcome\n",
       "0            0            0\n",
       "             1            0\n",
       "1            0          106\n",
       "             1           29\n",
       "2            0          168\n",
       "             1           38\n",
       "3            0          144\n",
       "             1           81\n",
       "4            0          180\n",
       "             1           92\n",
       "5            0          180\n",
       "             1          105\n",
       "6            0          204\n",
       "             1           96\n",
       "7            0          140\n",
       "             1          175\n",
       "8            0          128\n",
       "             1          176\n",
       "9            0           90\n",
       "             1          162\n",
       "10           0          140\n",
       "             1          100\n",
       "11           0           44\n",
       "             1           77\n",
       "12           0           60\n",
       "             1           48\n",
       "13           0           65\n",
       "             1           65\n",
       "14           1           28\n",
       "15           1           15\n",
       "17           1           17\n",
       "Name: Pregnancies, dtype: int64"
      ]
     },
     "execution_count": 40,
     "metadata": {},
     "output_type": "execute_result"
    }
   ],
   "source": [
    "d22 = df1.groupby(['Pregnancies','Outcome'])['Pregnancies'].sum()\n",
    "d22"
   ]
  },
  {
   "cell_type": "code",
   "execution_count": 41,
   "id": "859c34de",
   "metadata": {},
   "outputs": [
    {
     "data": {
      "text/html": [
       "<div>\n",
       "<style scoped>\n",
       "    .dataframe tbody tr th:only-of-type {\n",
       "        vertical-align: middle;\n",
       "    }\n",
       "\n",
       "    .dataframe tbody tr th {\n",
       "        vertical-align: top;\n",
       "    }\n",
       "\n",
       "    .dataframe thead th {\n",
       "        text-align: right;\n",
       "    }\n",
       "</style>\n",
       "<table border=\"1\" class=\"dataframe\">\n",
       "  <thead>\n",
       "    <tr style=\"text-align: right;\">\n",
       "      <th></th>\n",
       "      <th>Pregnancies</th>\n",
       "      <th>Glucose</th>\n",
       "      <th>BloodPressure</th>\n",
       "      <th>SkinThickness</th>\n",
       "      <th>Insulin</th>\n",
       "      <th>BMI</th>\n",
       "      <th>DiabetesPedigreeFunction</th>\n",
       "      <th>Age</th>\n",
       "      <th>Outcome</th>\n",
       "    </tr>\n",
       "  </thead>\n",
       "  <tbody>\n",
       "    <tr>\n",
       "      <th>Pregnancies</th>\n",
       "      <td>1.000000</td>\n",
       "      <td>0.129459</td>\n",
       "      <td>0.141282</td>\n",
       "      <td>-0.081672</td>\n",
       "      <td>-0.073535</td>\n",
       "      <td>0.017683</td>\n",
       "      <td>-0.033523</td>\n",
       "      <td>0.544341</td>\n",
       "      <td>0.221898</td>\n",
       "    </tr>\n",
       "    <tr>\n",
       "      <th>Glucose</th>\n",
       "      <td>0.129459</td>\n",
       "      <td>1.000000</td>\n",
       "      <td>0.152590</td>\n",
       "      <td>0.057328</td>\n",
       "      <td>0.331357</td>\n",
       "      <td>0.221071</td>\n",
       "      <td>0.137337</td>\n",
       "      <td>0.263514</td>\n",
       "      <td>0.466581</td>\n",
       "    </tr>\n",
       "    <tr>\n",
       "      <th>BloodPressure</th>\n",
       "      <td>0.141282</td>\n",
       "      <td>0.152590</td>\n",
       "      <td>1.000000</td>\n",
       "      <td>0.207371</td>\n",
       "      <td>0.088933</td>\n",
       "      <td>0.281805</td>\n",
       "      <td>0.041265</td>\n",
       "      <td>0.239528</td>\n",
       "      <td>0.065068</td>\n",
       "    </tr>\n",
       "    <tr>\n",
       "      <th>SkinThickness</th>\n",
       "      <td>-0.081672</td>\n",
       "      <td>0.057328</td>\n",
       "      <td>0.207371</td>\n",
       "      <td>1.000000</td>\n",
       "      <td>0.436783</td>\n",
       "      <td>0.392573</td>\n",
       "      <td>0.183928</td>\n",
       "      <td>-0.113970</td>\n",
       "      <td>0.074752</td>\n",
       "    </tr>\n",
       "    <tr>\n",
       "      <th>Insulin</th>\n",
       "      <td>-0.073535</td>\n",
       "      <td>0.331357</td>\n",
       "      <td>0.088933</td>\n",
       "      <td>0.436783</td>\n",
       "      <td>1.000000</td>\n",
       "      <td>0.197859</td>\n",
       "      <td>0.185071</td>\n",
       "      <td>-0.042163</td>\n",
       "      <td>0.130548</td>\n",
       "    </tr>\n",
       "    <tr>\n",
       "      <th>BMI</th>\n",
       "      <td>0.017683</td>\n",
       "      <td>0.221071</td>\n",
       "      <td>0.281805</td>\n",
       "      <td>0.392573</td>\n",
       "      <td>0.197859</td>\n",
       "      <td>1.000000</td>\n",
       "      <td>0.140647</td>\n",
       "      <td>0.036242</td>\n",
       "      <td>0.292695</td>\n",
       "    </tr>\n",
       "    <tr>\n",
       "      <th>DiabetesPedigreeFunction</th>\n",
       "      <td>-0.033523</td>\n",
       "      <td>0.137337</td>\n",
       "      <td>0.041265</td>\n",
       "      <td>0.183928</td>\n",
       "      <td>0.185071</td>\n",
       "      <td>0.140647</td>\n",
       "      <td>1.000000</td>\n",
       "      <td>0.033561</td>\n",
       "      <td>0.173844</td>\n",
       "    </tr>\n",
       "    <tr>\n",
       "      <th>Age</th>\n",
       "      <td>0.544341</td>\n",
       "      <td>0.263514</td>\n",
       "      <td>0.239528</td>\n",
       "      <td>-0.113970</td>\n",
       "      <td>-0.042163</td>\n",
       "      <td>0.036242</td>\n",
       "      <td>0.033561</td>\n",
       "      <td>1.000000</td>\n",
       "      <td>0.238356</td>\n",
       "    </tr>\n",
       "    <tr>\n",
       "      <th>Outcome</th>\n",
       "      <td>0.221898</td>\n",
       "      <td>0.466581</td>\n",
       "      <td>0.065068</td>\n",
       "      <td>0.074752</td>\n",
       "      <td>0.130548</td>\n",
       "      <td>0.292695</td>\n",
       "      <td>0.173844</td>\n",
       "      <td>0.238356</td>\n",
       "      <td>1.000000</td>\n",
       "    </tr>\n",
       "  </tbody>\n",
       "</table>\n",
       "</div>"
      ],
      "text/plain": [
       "                          Pregnancies   Glucose  BloodPressure  SkinThickness  \\\n",
       "Pregnancies                  1.000000  0.129459       0.141282      -0.081672   \n",
       "Glucose                      0.129459  1.000000       0.152590       0.057328   \n",
       "BloodPressure                0.141282  0.152590       1.000000       0.207371   \n",
       "SkinThickness               -0.081672  0.057328       0.207371       1.000000   \n",
       "Insulin                     -0.073535  0.331357       0.088933       0.436783   \n",
       "BMI                          0.017683  0.221071       0.281805       0.392573   \n",
       "DiabetesPedigreeFunction    -0.033523  0.137337       0.041265       0.183928   \n",
       "Age                          0.544341  0.263514       0.239528      -0.113970   \n",
       "Outcome                      0.221898  0.466581       0.065068       0.074752   \n",
       "\n",
       "                           Insulin       BMI  DiabetesPedigreeFunction  \\\n",
       "Pregnancies              -0.073535  0.017683                 -0.033523   \n",
       "Glucose                   0.331357  0.221071                  0.137337   \n",
       "BloodPressure             0.088933  0.281805                  0.041265   \n",
       "SkinThickness             0.436783  0.392573                  0.183928   \n",
       "Insulin                   1.000000  0.197859                  0.185071   \n",
       "BMI                       0.197859  1.000000                  0.140647   \n",
       "DiabetesPedigreeFunction  0.185071  0.140647                  1.000000   \n",
       "Age                      -0.042163  0.036242                  0.033561   \n",
       "Outcome                   0.130548  0.292695                  0.173844   \n",
       "\n",
       "                               Age   Outcome  \n",
       "Pregnancies               0.544341  0.221898  \n",
       "Glucose                   0.263514  0.466581  \n",
       "BloodPressure             0.239528  0.065068  \n",
       "SkinThickness            -0.113970  0.074752  \n",
       "Insulin                  -0.042163  0.130548  \n",
       "BMI                       0.036242  0.292695  \n",
       "DiabetesPedigreeFunction  0.033561  0.173844  \n",
       "Age                       1.000000  0.238356  \n",
       "Outcome                   0.238356  1.000000  "
      ]
     },
     "execution_count": 41,
     "metadata": {},
     "output_type": "execute_result"
    }
   ],
   "source": [
    "df1.corr()"
   ]
  },
  {
   "cell_type": "code",
   "execution_count": 42,
   "id": "a785d1e7",
   "metadata": {},
   "outputs": [
    {
     "data": {
      "text/plain": [
       "Pregnancies                 0.221898\n",
       "Glucose                     0.466581\n",
       "BloodPressure               0.065068\n",
       "SkinThickness               0.074752\n",
       "Insulin                     0.130548\n",
       "BMI                         0.292695\n",
       "DiabetesPedigreeFunction    0.173844\n",
       "Age                         0.238356\n",
       "Outcome                     1.000000\n",
       "Name: Outcome, dtype: float64"
      ]
     },
     "execution_count": 42,
     "metadata": {},
     "output_type": "execute_result"
    }
   ],
   "source": [
    "df1.corr()['Outcome']"
   ]
  },
  {
   "cell_type": "markdown",
   "id": "4159bc03",
   "metadata": {},
   "source": [
    "# ANN MODEL"
   ]
  },
  {
   "cell_type": "code",
   "execution_count": 43,
   "id": "589da73c",
   "metadata": {},
   "outputs": [
    {
     "name": "stdout",
     "output_type": "stream",
     "text": [
      "(768, 8)\n",
      "(768,)\n"
     ]
    }
   ],
   "source": [
    "x = df1.iloc[:,:-1]\n",
    "y = df1.iloc[:,-1]\n",
    "print(x.shape)\n",
    "print(y.shape)"
   ]
  },
  {
   "cell_type": "code",
   "execution_count": 44,
   "id": "125e8ee1",
   "metadata": {},
   "outputs": [
    {
     "name": "stdout",
     "output_type": "stream",
     "text": [
      "<class 'pandas.core.frame.DataFrame'>\n",
      "<class 'pandas.core.series.Series'>\n"
     ]
    }
   ],
   "source": [
    "print(type(x))\n",
    "print(type(y))"
   ]
  },
  {
   "cell_type": "code",
   "execution_count": 45,
   "id": "bba52569",
   "metadata": {},
   "outputs": [
    {
     "data": {
      "text/html": [
       "<div>\n",
       "<style scoped>\n",
       "    .dataframe tbody tr th:only-of-type {\n",
       "        vertical-align: middle;\n",
       "    }\n",
       "\n",
       "    .dataframe tbody tr th {\n",
       "        vertical-align: top;\n",
       "    }\n",
       "\n",
       "    .dataframe thead th {\n",
       "        text-align: right;\n",
       "    }\n",
       "</style>\n",
       "<table border=\"1\" class=\"dataframe\">\n",
       "  <thead>\n",
       "    <tr style=\"text-align: right;\">\n",
       "      <th></th>\n",
       "      <th>Pregnancies</th>\n",
       "      <th>Glucose</th>\n",
       "      <th>BloodPressure</th>\n",
       "      <th>SkinThickness</th>\n",
       "      <th>Insulin</th>\n",
       "      <th>BMI</th>\n",
       "      <th>DiabetesPedigreeFunction</th>\n",
       "      <th>Age</th>\n",
       "    </tr>\n",
       "  </thead>\n",
       "  <tbody>\n",
       "    <tr>\n",
       "      <th>0</th>\n",
       "      <td>6</td>\n",
       "      <td>148</td>\n",
       "      <td>72</td>\n",
       "      <td>35</td>\n",
       "      <td>0</td>\n",
       "      <td>33.6</td>\n",
       "      <td>0.627</td>\n",
       "      <td>50</td>\n",
       "    </tr>\n",
       "    <tr>\n",
       "      <th>1</th>\n",
       "      <td>1</td>\n",
       "      <td>85</td>\n",
       "      <td>66</td>\n",
       "      <td>29</td>\n",
       "      <td>0</td>\n",
       "      <td>26.6</td>\n",
       "      <td>0.351</td>\n",
       "      <td>31</td>\n",
       "    </tr>\n",
       "    <tr>\n",
       "      <th>2</th>\n",
       "      <td>8</td>\n",
       "      <td>183</td>\n",
       "      <td>64</td>\n",
       "      <td>0</td>\n",
       "      <td>0</td>\n",
       "      <td>23.3</td>\n",
       "      <td>0.672</td>\n",
       "      <td>32</td>\n",
       "    </tr>\n",
       "    <tr>\n",
       "      <th>3</th>\n",
       "      <td>1</td>\n",
       "      <td>89</td>\n",
       "      <td>66</td>\n",
       "      <td>23</td>\n",
       "      <td>94</td>\n",
       "      <td>28.1</td>\n",
       "      <td>0.167</td>\n",
       "      <td>21</td>\n",
       "    </tr>\n",
       "    <tr>\n",
       "      <th>4</th>\n",
       "      <td>0</td>\n",
       "      <td>137</td>\n",
       "      <td>40</td>\n",
       "      <td>35</td>\n",
       "      <td>168</td>\n",
       "      <td>43.1</td>\n",
       "      <td>2.288</td>\n",
       "      <td>33</td>\n",
       "    </tr>\n",
       "  </tbody>\n",
       "</table>\n",
       "</div>"
      ],
      "text/plain": [
       "   Pregnancies  Glucose  BloodPressure  SkinThickness  Insulin   BMI  \\\n",
       "0            6      148             72             35        0  33.6   \n",
       "1            1       85             66             29        0  26.6   \n",
       "2            8      183             64              0        0  23.3   \n",
       "3            1       89             66             23       94  28.1   \n",
       "4            0      137             40             35      168  43.1   \n",
       "\n",
       "   DiabetesPedigreeFunction  Age  \n",
       "0                     0.627   50  \n",
       "1                     0.351   31  \n",
       "2                     0.672   32  \n",
       "3                     0.167   21  \n",
       "4                     2.288   33  "
      ]
     },
     "execution_count": 45,
     "metadata": {},
     "output_type": "execute_result"
    }
   ],
   "source": [
    "x.head()"
   ]
  },
  {
   "cell_type": "code",
   "execution_count": 46,
   "id": "0a2697ca",
   "metadata": {},
   "outputs": [
    {
     "data": {
      "text/plain": [
       "0    1\n",
       "1    0\n",
       "2    1\n",
       "3    0\n",
       "4    1\n",
       "Name: Outcome, dtype: int64"
      ]
     },
     "execution_count": 46,
     "metadata": {},
     "output_type": "execute_result"
    }
   ],
   "source": [
    "y.head()"
   ]
  },
  {
   "cell_type": "markdown",
   "id": "ed909e16",
   "metadata": {},
   "source": [
    "# STEP-2"
   ]
  },
  {
   "cell_type": "code",
   "execution_count": 47,
   "id": "d5449243",
   "metadata": {},
   "outputs": [],
   "source": [
    "from sklearn.model_selection import train_test_split"
   ]
  },
  {
   "cell_type": "code",
   "execution_count": 48,
   "id": "0c8bd548",
   "metadata": {},
   "outputs": [
    {
     "name": "stdout",
     "output_type": "stream",
     "text": [
      "(537, 8)\n",
      "(231, 8)\n",
      "(537,)\n",
      "(231,)\n"
     ]
    }
   ],
   "source": [
    "x_train,x_test, y_train,y_test = train_test_split(x,y,test_size=0.30)\n",
    "print(x_train.shape)\n",
    "print(x_test.shape)\n",
    "print(y_train.shape)\n",
    "print(y_test.shape)"
   ]
  },
  {
   "cell_type": "code",
   "execution_count": 49,
   "id": "181136f8",
   "metadata": {},
   "outputs": [
    {
     "data": {
      "text/plain": [
       "611    1\n",
       "650    0\n",
       "26     1\n",
       "139    0\n",
       "693    1\n",
       "Name: Outcome, dtype: int64"
      ]
     },
     "execution_count": 49,
     "metadata": {},
     "output_type": "execute_result"
    }
   ],
   "source": [
    "y_train[:5]"
   ]
  },
  {
   "cell_type": "markdown",
   "id": "eb5ea635",
   "metadata": {},
   "source": [
    "# STEP-3"
   ]
  },
  {
   "cell_type": "code",
   "execution_count": 50,
   "id": "80a000bf",
   "metadata": {},
   "outputs": [],
   "source": [
    "from tensorflow.keras.models import Sequential\n",
    "from tensorflow.keras.layers import Dense, LeakyReLU\n",
    "from tensorflow.keras.optimizers import Adam, RMSprop"
   ]
  },
  {
   "cell_type": "code",
   "execution_count": 51,
   "id": "347106fc",
   "metadata": {},
   "outputs": [],
   "source": [
    "m1 = Sequential()                                 \n",
    "m1.add(Dense(40, activation='relu',input_dim=8))               \n",
    "m1.add(Dense(20, activation='relu'))\n",
    "m1.add(Dense(10, activation='relu'))\n",
    "m1.add(Dense(1,activation='sigmoid'))             \n",
    "\n",
    "m1.compile(optimizer='adam',loss='binary_crossentropy',metrics=['accuracy'])"
   ]
  },
  {
   "cell_type": "markdown",
   "id": "5152ee97",
   "metadata": {},
   "source": [
    "# STEP-4"
   ]
  },
  {
   "cell_type": "code",
   "execution_count": 52,
   "id": "efd3d51a",
   "metadata": {},
   "outputs": [
    {
     "name": "stdout",
     "output_type": "stream",
     "text": [
      "Epoch 1/50\n",
      "17/17 [==============================] - 1s 16ms/step - loss: 1.0137 - accuracy: 0.5773 - val_loss: 0.9032 - val_accuracy: 0.6407\n",
      "Epoch 2/50\n",
      "17/17 [==============================] - 0s 3ms/step - loss: 0.8046 - accuracy: 0.5940 - val_loss: 0.7223 - val_accuracy: 0.6407\n",
      "Epoch 3/50\n",
      "17/17 [==============================] - 0s 5ms/step - loss: 0.7378 - accuracy: 0.6350 - val_loss: 0.6636 - val_accuracy: 0.6364\n",
      "Epoch 4/50\n",
      "17/17 [==============================] - 0s 6ms/step - loss: 0.6740 - accuracy: 0.6294 - val_loss: 0.6470 - val_accuracy: 0.6407\n",
      "Epoch 5/50\n",
      "17/17 [==============================] - 0s 8ms/step - loss: 0.6457 - accuracy: 0.6704 - val_loss: 0.6312 - val_accuracy: 0.6494\n",
      "Epoch 6/50\n",
      "17/17 [==============================] - 0s 5ms/step - loss: 0.6194 - accuracy: 0.6574 - val_loss: 0.6427 - val_accuracy: 0.6883\n",
      "Epoch 7/50\n",
      "17/17 [==============================] - 0s 4ms/step - loss: 0.6237 - accuracy: 0.6760 - val_loss: 0.6229 - val_accuracy: 0.7229\n",
      "Epoch 8/50\n",
      "17/17 [==============================] - 0s 3ms/step - loss: 0.5862 - accuracy: 0.6946 - val_loss: 0.6146 - val_accuracy: 0.7273\n",
      "Epoch 9/50\n",
      "17/17 [==============================] - 0s 4ms/step - loss: 0.5794 - accuracy: 0.6890 - val_loss: 0.6051 - val_accuracy: 0.7273\n",
      "Epoch 10/50\n",
      "17/17 [==============================] - 0s 7ms/step - loss: 0.5860 - accuracy: 0.7002 - val_loss: 0.6114 - val_accuracy: 0.6926\n",
      "Epoch 11/50\n",
      "17/17 [==============================] - 0s 4ms/step - loss: 0.5799 - accuracy: 0.7114 - val_loss: 0.6101 - val_accuracy: 0.7143\n",
      "Epoch 12/50\n",
      "17/17 [==============================] - 0s 5ms/step - loss: 0.5784 - accuracy: 0.6909 - val_loss: 0.6223 - val_accuracy: 0.7186\n",
      "Epoch 13/50\n",
      "17/17 [==============================] - 0s 7ms/step - loss: 0.5660 - accuracy: 0.7188 - val_loss: 0.5971 - val_accuracy: 0.7056\n",
      "Epoch 14/50\n",
      "17/17 [==============================] - 0s 7ms/step - loss: 0.5710 - accuracy: 0.6946 - val_loss: 0.5968 - val_accuracy: 0.6970\n",
      "Epoch 15/50\n",
      "17/17 [==============================] - 0s 6ms/step - loss: 0.5532 - accuracy: 0.7244 - val_loss: 0.6475 - val_accuracy: 0.6623\n",
      "Epoch 16/50\n",
      "17/17 [==============================] - 0s 4ms/step - loss: 0.5960 - accuracy: 0.7020 - val_loss: 0.6107 - val_accuracy: 0.6797\n",
      "Epoch 17/50\n",
      "17/17 [==============================] - 0s 4ms/step - loss: 0.6041 - accuracy: 0.6853 - val_loss: 0.6534 - val_accuracy: 0.6883\n",
      "Epoch 18/50\n",
      "17/17 [==============================] - 0s 4ms/step - loss: 0.5727 - accuracy: 0.7132 - val_loss: 0.6004 - val_accuracy: 0.7186\n",
      "Epoch 19/50\n",
      "17/17 [==============================] - 0s 7ms/step - loss: 0.5531 - accuracy: 0.7244 - val_loss: 0.6272 - val_accuracy: 0.6667\n",
      "Epoch 20/50\n",
      "17/17 [==============================] - 0s 3ms/step - loss: 0.5782 - accuracy: 0.7058 - val_loss: 0.5859 - val_accuracy: 0.7403\n",
      "Epoch 21/50\n",
      "17/17 [==============================] - 0s 5ms/step - loss: 0.5519 - accuracy: 0.7207 - val_loss: 0.5860 - val_accuracy: 0.7100\n",
      "Epoch 22/50\n",
      "17/17 [==============================] - 0s 6ms/step - loss: 0.5529 - accuracy: 0.7095 - val_loss: 0.5849 - val_accuracy: 0.7186\n",
      "Epoch 23/50\n",
      "17/17 [==============================] - 0s 6ms/step - loss: 0.5330 - accuracy: 0.7244 - val_loss: 0.5997 - val_accuracy: 0.7100\n",
      "Epoch 24/50\n",
      "17/17 [==============================] - 0s 7ms/step - loss: 0.5265 - accuracy: 0.7300 - val_loss: 0.6420 - val_accuracy: 0.6580\n",
      "Epoch 25/50\n",
      "17/17 [==============================] - 0s 3ms/step - loss: 0.5493 - accuracy: 0.7263 - val_loss: 0.6516 - val_accuracy: 0.6840\n",
      "Epoch 26/50\n",
      "17/17 [==============================] - 0s 3ms/step - loss: 0.5520 - accuracy: 0.7207 - val_loss: 0.5860 - val_accuracy: 0.7273\n",
      "Epoch 27/50\n",
      "17/17 [==============================] - 0s 3ms/step - loss: 0.5777 - accuracy: 0.7114 - val_loss: 0.5754 - val_accuracy: 0.7359\n",
      "Epoch 28/50\n",
      "17/17 [==============================] - 0s 5ms/step - loss: 0.6529 - accuracy: 0.6704 - val_loss: 0.6356 - val_accuracy: 0.7100\n",
      "Epoch 29/50\n",
      "17/17 [==============================] - 0s 4ms/step - loss: 0.5678 - accuracy: 0.7114 - val_loss: 0.6180 - val_accuracy: 0.7013\n",
      "Epoch 30/50\n",
      "17/17 [==============================] - 0s 3ms/step - loss: 0.5649 - accuracy: 0.7095 - val_loss: 0.6470 - val_accuracy: 0.6580\n",
      "Epoch 31/50\n",
      "17/17 [==============================] - 0s 7ms/step - loss: 0.5612 - accuracy: 0.7393 - val_loss: 0.6079 - val_accuracy: 0.7013\n",
      "Epoch 32/50\n",
      "17/17 [==============================] - 0s 7ms/step - loss: 0.5361 - accuracy: 0.7467 - val_loss: 0.5883 - val_accuracy: 0.7359\n",
      "Epoch 33/50\n",
      "17/17 [==============================] - 0s 6ms/step - loss: 0.5464 - accuracy: 0.7281 - val_loss: 0.6198 - val_accuracy: 0.7056\n",
      "Epoch 34/50\n",
      "17/17 [==============================] - 0s 3ms/step - loss: 0.5599 - accuracy: 0.7244 - val_loss: 0.6449 - val_accuracy: 0.6840\n",
      "Epoch 35/50\n",
      "17/17 [==============================] - 0s 3ms/step - loss: 0.5560 - accuracy: 0.7151 - val_loss: 0.6055 - val_accuracy: 0.7100\n",
      "Epoch 36/50\n",
      "17/17 [==============================] - 0s 3ms/step - loss: 0.5547 - accuracy: 0.7207 - val_loss: 0.6082 - val_accuracy: 0.7056\n",
      "Epoch 37/50\n",
      "17/17 [==============================] - 0s 3ms/step - loss: 0.5227 - accuracy: 0.7542 - val_loss: 0.5799 - val_accuracy: 0.7143\n",
      "Epoch 38/50\n",
      "17/17 [==============================] - 0s 4ms/step - loss: 0.5470 - accuracy: 0.7207 - val_loss: 0.6003 - val_accuracy: 0.7013\n",
      "Epoch 39/50\n",
      "17/17 [==============================] - 0s 5ms/step - loss: 0.5231 - accuracy: 0.7393 - val_loss: 0.5882 - val_accuracy: 0.7100\n",
      "Epoch 40/50\n",
      "17/17 [==============================] - 0s 4ms/step - loss: 0.5087 - accuracy: 0.7542 - val_loss: 0.5892 - val_accuracy: 0.7273\n",
      "Epoch 41/50\n",
      "17/17 [==============================] - 0s 6ms/step - loss: 0.5215 - accuracy: 0.7449 - val_loss: 0.6048 - val_accuracy: 0.6970\n",
      "Epoch 42/50\n",
      "17/17 [==============================] - 0s 7ms/step - loss: 0.5359 - accuracy: 0.7412 - val_loss: 0.5812 - val_accuracy: 0.7359\n",
      "Epoch 43/50\n",
      "17/17 [==============================] - 0s 7ms/step - loss: 0.5212 - accuracy: 0.7561 - val_loss: 0.5861 - val_accuracy: 0.7056\n",
      "Epoch 44/50\n",
      "17/17 [==============================] - 0s 5ms/step - loss: 0.5333 - accuracy: 0.7430 - val_loss: 0.5857 - val_accuracy: 0.7229\n",
      "Epoch 45/50\n",
      "17/17 [==============================] - 0s 3ms/step - loss: 0.5124 - accuracy: 0.7672 - val_loss: 0.5860 - val_accuracy: 0.7229\n",
      "Epoch 46/50\n",
      "17/17 [==============================] - 0s 3ms/step - loss: 0.4984 - accuracy: 0.7542 - val_loss: 0.6104 - val_accuracy: 0.6926\n",
      "Epoch 47/50\n",
      "17/17 [==============================] - 0s 5ms/step - loss: 0.5171 - accuracy: 0.7486 - val_loss: 0.6008 - val_accuracy: 0.7186\n",
      "Epoch 48/50\n",
      "17/17 [==============================] - 0s 6ms/step - loss: 0.5068 - accuracy: 0.7430 - val_loss: 0.5794 - val_accuracy: 0.7100\n",
      "Epoch 49/50\n",
      "17/17 [==============================] - 0s 3ms/step - loss: 0.5046 - accuracy: 0.7654 - val_loss: 0.6045 - val_accuracy: 0.7100\n",
      "Epoch 50/50\n",
      "17/17 [==============================] - 0s 6ms/step - loss: 0.5209 - accuracy: 0.7430 - val_loss: 0.5882 - val_accuracy: 0.7316\n"
     ]
    }
   ],
   "source": [
    "R1 = m1.fit(x_train,y_train,epochs=50,validation_data=(x_test,y_test))"
   ]
  },
  {
   "cell_type": "code",
   "execution_count": 53,
   "id": "9b989e61",
   "metadata": {},
   "outputs": [
    {
     "data": {
      "text/html": [
       "<div>\n",
       "<style scoped>\n",
       "    .dataframe tbody tr th:only-of-type {\n",
       "        vertical-align: middle;\n",
       "    }\n",
       "\n",
       "    .dataframe tbody tr th {\n",
       "        vertical-align: top;\n",
       "    }\n",
       "\n",
       "    .dataframe thead th {\n",
       "        text-align: right;\n",
       "    }\n",
       "</style>\n",
       "<table border=\"1\" class=\"dataframe\">\n",
       "  <thead>\n",
       "    <tr style=\"text-align: right;\">\n",
       "      <th></th>\n",
       "      <th>loss</th>\n",
       "      <th>accuracy</th>\n",
       "      <th>val_loss</th>\n",
       "      <th>val_accuracy</th>\n",
       "      <th>Epochs</th>\n",
       "    </tr>\n",
       "  </thead>\n",
       "  <tbody>\n",
       "    <tr>\n",
       "      <th>45</th>\n",
       "      <td>0.498377</td>\n",
       "      <td>0.754190</td>\n",
       "      <td>0.610429</td>\n",
       "      <td>0.692641</td>\n",
       "      <td>45</td>\n",
       "    </tr>\n",
       "    <tr>\n",
       "      <th>46</th>\n",
       "      <td>0.517086</td>\n",
       "      <td>0.748603</td>\n",
       "      <td>0.600768</td>\n",
       "      <td>0.718615</td>\n",
       "      <td>46</td>\n",
       "    </tr>\n",
       "    <tr>\n",
       "      <th>47</th>\n",
       "      <td>0.506828</td>\n",
       "      <td>0.743017</td>\n",
       "      <td>0.579443</td>\n",
       "      <td>0.709957</td>\n",
       "      <td>47</td>\n",
       "    </tr>\n",
       "    <tr>\n",
       "      <th>48</th>\n",
       "      <td>0.504620</td>\n",
       "      <td>0.765363</td>\n",
       "      <td>0.604494</td>\n",
       "      <td>0.709957</td>\n",
       "      <td>48</td>\n",
       "    </tr>\n",
       "    <tr>\n",
       "      <th>49</th>\n",
       "      <td>0.520871</td>\n",
       "      <td>0.743017</td>\n",
       "      <td>0.588155</td>\n",
       "      <td>0.731602</td>\n",
       "      <td>49</td>\n",
       "    </tr>\n",
       "  </tbody>\n",
       "</table>\n",
       "</div>"
      ],
      "text/plain": [
       "        loss  accuracy  val_loss  val_accuracy  Epochs\n",
       "45  0.498377  0.754190  0.610429      0.692641      45\n",
       "46  0.517086  0.748603  0.600768      0.718615      46\n",
       "47  0.506828  0.743017  0.579443      0.709957      47\n",
       "48  0.504620  0.765363  0.604494      0.709957      48\n",
       "49  0.520871  0.743017  0.588155      0.731602      49"
      ]
     },
     "execution_count": 53,
     "metadata": {},
     "output_type": "execute_result"
    }
   ],
   "source": [
    "r1 = pd.DataFrame(R1.history)\n",
    "r1['Epochs'] = R1.epoch\n",
    "r1.tail()"
   ]
  },
  {
   "cell_type": "markdown",
   "id": "855823d9",
   "metadata": {},
   "source": [
    "# STEP-5"
   ]
  },
  {
   "cell_type": "code",
   "execution_count": 54,
   "id": "b2003e15",
   "metadata": {},
   "outputs": [
    {
     "data": {
      "image/png": "[encoded data removed]",
      "text/plain": [
       "<Figure size 432x288 with 1 Axes>"
      ]
     },
     "metadata": {
      "needs_background": "light"
     },
     "output_type": "display_data"
    }
   ],
   "source": [
    "plt.plot(r1['Epochs'],r1['loss'],label='Training Loss')\n",
    "plt.plot(r1['Epochs'],r1['val_loss'],label='Testing Loss')\n",
    "plt.xlabel('Epochs - No of Iterations')\n",
    "plt.legend()\n",
    "plt.ylabel('Loss')\n",
    "plt.show()"
   ]
  },
  {
   "cell_type": "markdown",
   "id": "b32b4f9a",
   "metadata": {},
   "source": [
    "# STEP-6"
   ]
  },
  {
   "cell_type": "code",
   "execution_count": 55,
   "id": "97d3fa12",
   "metadata": {},
   "outputs": [
    {
     "data": {
      "image/png": "[encoded data removed]",
      "text/plain": [
       "<Figure size 432x288 with 1 Axes>"
      ]
     },
     "metadata": {
      "needs_background": "light"
     },
     "output_type": "display_data"
    }
   ],
   "source": [
    "plt.plot(r1['Epochs'],r1['accuracy'],label='Training Accuracy')\n",
    "plt.plot(r1['Epochs'],r1['val_accuracy'],label='Testing Accuracy')\n",
    "plt.xlabel('Epochs - No of Iterations')\n",
    "plt.ylabel('Accuracy')\n",
    "plt.legend()\n",
    "plt.show()"
   ]
  },
  {
   "cell_type": "markdown",
   "id": "fe553896",
   "metadata": {},
   "source": [
    "# STEP-7"
   ]
  },
  {
   "cell_type": "code",
   "execution_count": 56,
   "id": "0d1ec85f",
   "metadata": {},
   "outputs": [
    {
     "name": "stdout",
     "output_type": "stream",
     "text": [
      "[[0.22934732]\n",
      " [0.4357014 ]\n",
      " [0.16619644]\n",
      " [0.35573715]\n",
      " [0.9059424 ]\n",
      " [0.5634163 ]\n",
      " [0.23070872]\n",
      " [0.08962405]\n",
      " [0.84817845]\n",
      " [0.58373153]\n",
      " [0.51288086]\n",
      " [0.05632222]\n",
      " [0.76463675]\n",
      " [0.6817296 ]\n",
      " [0.32734293]\n",
      " [0.5962562 ]\n",
      " [0.87835425]\n",
      " [0.11352831]\n",
      " [0.4812596 ]\n",
      " [0.18376312]\n",
      " [0.6806835 ]\n",
      " [0.23403314]\n",
      " [0.82429516]\n",
      " [0.5919982 ]\n",
      " [0.29967242]\n",
      " [0.73679316]\n",
      " [0.28984597]\n",
      " [0.32458723]\n",
      " [0.31279534]\n",
      " [0.2875057 ]\n",
      " [0.4760762 ]\n",
      " [0.51380044]\n",
      " [0.29460633]\n",
      " [0.21519089]\n",
      " [0.22455403]\n",
      " [0.04293782]\n",
      " [0.64920473]\n",
      " [0.6729342 ]\n",
      " [0.3746813 ]\n",
      " [0.29948992]\n",
      " [0.5561574 ]\n",
      " [0.50514007]\n",
      " [0.18416646]\n",
      " [0.53871137]\n",
      " [0.25524467]\n",
      " [0.6236611 ]\n",
      " [0.7381276 ]\n",
      " [0.18511191]\n",
      " [0.8409244 ]\n",
      " [0.38013217]\n",
      " [0.37688234]\n",
      " [0.39902583]\n",
      " [0.72184676]\n",
      " [0.19897771]\n",
      " [0.48799628]\n",
      " [0.2775666 ]\n",
      " [0.17281625]\n",
      " [0.11158827]\n",
      " [0.24075392]\n",
      " [0.4911638 ]\n",
      " [0.55500025]\n",
      " [0.19075614]\n",
      " [0.9194658 ]\n",
      " [0.6985186 ]\n",
      " [0.22689366]\n",
      " [0.70738405]\n",
      " [0.9537144 ]\n",
      " [0.82824343]\n",
      " [0.92211366]\n",
      " [0.2795077 ]\n",
      " [0.80519843]\n",
      " [0.69461465]\n",
      " [0.43820986]\n",
      " [0.47542974]\n",
      " [0.20683706]\n",
      " [0.5246054 ]\n",
      " [0.66912055]\n",
      " [0.38440263]\n",
      " [0.7330594 ]\n",
      " [0.71344924]\n",
      " [0.7285303 ]\n",
      " [0.27502385]\n",
      " [0.5228426 ]\n",
      " [0.08537126]\n",
      " [0.79625106]\n",
      " [0.1907092 ]\n",
      " [0.4695997 ]\n",
      " [0.36260572]\n",
      " [0.6674047 ]\n",
      " [0.22056362]\n",
      " [0.6004964 ]\n",
      " [0.4457096 ]\n",
      " [0.55214745]\n",
      " [0.10897613]\n",
      " [0.8357383 ]\n",
      " [0.7818627 ]\n",
      " [0.42666095]\n",
      " [0.4525094 ]\n",
      " [0.3839832 ]\n",
      " [0.8012363 ]\n",
      " [0.26536924]\n",
      " [0.2582389 ]\n",
      " [0.50031716]\n",
      " [0.22909284]\n",
      " [0.4634494 ]\n",
      " [0.39889735]\n",
      " [0.7379989 ]\n",
      " [0.23694015]\n",
      " [0.46783715]\n",
      " [0.7836149 ]\n",
      " [0.01715457]\n",
      " [0.3170431 ]\n",
      " [0.3455849 ]\n",
      " [0.23371506]\n",
      " [0.5025504 ]\n",
      " [0.03673732]\n",
      " [0.6357652 ]\n",
      " [0.28658867]\n",
      " [0.3317721 ]\n",
      " [0.08795285]\n",
      " [0.811576  ]\n",
      " [0.3190245 ]\n",
      " [0.43238494]\n",
      " [0.3822759 ]\n",
      " [0.33898675]\n",
      " [0.5936846 ]\n",
      " [0.04953659]\n",
      " [0.7260755 ]\n",
      " [0.2679115 ]\n",
      " [0.7944231 ]\n",
      " [0.7902663 ]\n",
      " [0.22437435]\n",
      " [0.11480385]\n",
      " [0.18715021]\n",
      " [0.4624557 ]\n",
      " [0.04271442]\n",
      " [0.1805861 ]\n",
      " [0.16474351]\n",
      " [0.30791622]\n",
      " [0.20322251]\n",
      " [0.13741642]\n",
      " [0.09950438]\n",
      " [0.0432258 ]\n",
      " [0.23537734]\n",
      " [0.7673146 ]\n",
      " [0.17525032]\n",
      " [0.73686177]\n",
      " [0.5328376 ]\n",
      " [0.565508  ]\n",
      " [0.34110445]\n",
      " [0.7387531 ]\n",
      " [0.32842922]\n",
      " [0.27784583]\n",
      " [0.20156783]\n",
      " [0.25988352]\n",
      " [0.04236266]\n",
      " [0.20000452]\n",
      " [0.08112267]\n",
      " [0.5518171 ]\n",
      " [0.58256936]\n",
      " [0.42640722]\n",
      " [0.55582863]\n",
      " [0.31439233]\n",
      " [0.6483933 ]\n",
      " [0.9601212 ]\n",
      " [0.4680051 ]\n",
      " [0.04523146]\n",
      " [0.44438964]\n",
      " [0.3625702 ]\n",
      " [0.85517824]\n",
      " [0.1880705 ]\n",
      " [0.75298035]\n",
      " [0.79751515]\n",
      " [0.77497363]\n",
      " [0.2647035 ]\n",
      " [0.18538168]\n",
      " [0.59686565]\n",
      " [0.0613814 ]\n",
      " [0.548603  ]\n",
      " [0.87023485]\n",
      " [0.74562114]\n",
      " [0.27471283]\n",
      " [0.7889184 ]\n",
      " [0.3361079 ]\n",
      " [0.2510916 ]\n",
      " [0.5294855 ]\n",
      " [0.1282942 ]\n",
      " [0.6722094 ]\n",
      " [0.90649796]\n",
      " [0.28796858]\n",
      " [0.29734272]\n",
      " [0.7881544 ]\n",
      " [0.6171142 ]\n",
      " [0.06524554]\n",
      " [0.7265946 ]\n",
      " [0.54279333]\n",
      " [0.80277985]\n",
      " [0.6354806 ]\n",
      " [0.02296785]\n",
      " [0.48219475]\n",
      " [0.29499793]\n",
      " [0.9357165 ]\n",
      " [0.26648402]\n",
      " [0.5858811 ]\n",
      " [0.4075016 ]\n",
      " [0.78845406]\n",
      " [0.27693152]\n",
      " [0.08916885]\n",
      " [0.490598  ]\n",
      " [0.3024959 ]\n",
      " [0.21443403]\n",
      " [0.78288484]\n",
      " [0.5432708 ]\n",
      " [0.26278234]\n",
      " [0.65777624]\n",
      " [0.48264283]\n",
      " [0.23977885]\n",
      " [0.07326055]\n",
      " [0.08399799]\n",
      " [0.56529   ]\n",
      " [0.01160356]\n",
      " [0.4720183 ]\n",
      " [0.20038894]\n",
      " [0.29150832]\n",
      " [0.21556643]\n",
      " [0.33929282]\n",
      " [0.15920559]\n",
      " [0.33558983]\n",
      " [0.08219934]\n",
      " [0.46585608]\n",
      " [0.9080138 ]]\n"
     ]
    }
   ],
   "source": [
    "ypred_m1 = m1.predict(x_test)\n",
    "print(ypred_m1)"
   ]
  },
  {
   "cell_type": "code",
   "execution_count": 57,
   "id": "b27ef298",
   "metadata": {},
   "outputs": [
    {
     "name": "stdout",
     "output_type": "stream",
     "text": [
      "[0, 0, 0, 0, 1, 1, 0, 0, 1, 1, 1, 0, 1, 1, 0, 1, 1, 0, 0, 0, 1, 0, 1, 1, 0, 1, 0, 0, 0, 0, 0, 1, 0, 0, 0, 0, 1, 1, 0, 0, 1, 1, 0, 1, 0, 1, 1, 0, 1, 0, 0, 0, 1, 0, 0, 0, 0, 0, 0, 0, 1, 0, 1, 1, 0, 1, 1, 1, 1, 0, 1, 1, 0, 0, 0, 1, 1, 0, 1, 1, 1, 0, 1, 0, 1, 0, 0, 0, 1, 0, 1, 0, 1, 0, 1, 1, 0, 0, 0, 1, 0, 0, 1, 0, 0, 0, 1, 0, 0, 1, 0, 0, 0, 0, 1, 0, 1, 0, 0, 0, 1, 0, 0, 0, 0, 1, 0, 1, 0, 1, 1, 0, 0, 0, 0, 0, 0, 0, 0, 0, 0, 0, 0, 0, 1, 0, 1, 1, 1, 0, 1, 0, 0, 0, 0, 0, 0, 0, 1, 1, 0, 1, 0, 1, 1, 0, 0, 0, 0, 1, 0, 1, 1, 1, 0, 0, 1, 0, 1, 1, 1, 0, 1, 0, 0, 1, 0, 1, 1, 0, 0, 1, 1, 0, 1, 1, 1, 1, 0, 0, 0, 1, 0, 1, 0, 1, 0, 0, 0, 0, 0, 1, 1, 0, 1, 0, 0, 0, 0, 1, 0, 0, 0, 0, 0, 0, 0, 0, 0, 0, 1]\n"
     ]
    }
   ],
   "source": [
    "ypred_m1 = [1 if i>0.5 else 0 for i in ypred_m1]\n",
    "print(ypred_m1)"
   ]
  },
  {
   "cell_type": "code",
   "execution_count": 58,
   "id": "0870b9b7",
   "metadata": {},
   "outputs": [
    {
     "name": "stdout",
     "output_type": "stream",
     "text": [
      "[0 0 0 0 1 0 0 0 0 1 1 0 1 1 1 1 1 0 0 0 1 1 1 1 0 0 0 0 1 0 0 1 0 0 0 1 1\n",
      " 0 0 1 1 1 1 1 0 0 0 0 1 0 0 0 1 0 1 0 0 0 1 0 1 0 1 1 0 0 0 1 1 0 1 0 1 0\n",
      " 0 1 1 0 1 1 0 0 0 0 0 1 0 0 0 1 1 0 0 0 1 1 0 1 0 0 1 0 0 0 0 1 0 0 1 1 0\n",
      " 0 0 0 0 1 0 0 0 0 0 1 0 1 0 1 1 1 0 0 1 1 0 0 0 0 0 0 0 0 0 0 1 1 1 0 1 0\n",
      " 0 0 1 0 1 0 0 0 0 0 1 1 0 0 0 0 1 1 0 0 0 1 0 0 1 1 0 0 1 0 0 1 1 0 0 0 0\n",
      " 0 0 1 1 1 0 1 0 0 1 1 0 1 0 1 0 1 0 1 0 0 0 0 0 0 0 1 0 0 1 0 1 0 0 0 0 0\n",
      " 0 0 0 0 0 0 0 1 1]\n"
     ]
    }
   ],
   "source": [
    "print(y_test.values)"
   ]
  },
  {
   "cell_type": "markdown",
   "id": "2c2d810d",
   "metadata": {},
   "source": [
    "# STEP-8"
   ]
  },
  {
   "cell_type": "code",
   "execution_count": 59,
   "id": "c09bbc43",
   "metadata": {},
   "outputs": [],
   "source": [
    "from sklearn.metrics import confusion_matrix,classification_report"
   ]
  },
  {
   "cell_type": "code",
   "execution_count": 60,
   "id": "7bd530d7",
   "metadata": {},
   "outputs": [
    {
     "name": "stdout",
     "output_type": "stream",
     "text": [
      "[[112  34]\n",
      " [ 28  57]]\n",
      "              precision    recall  f1-score   support\n",
      "\n",
      "           0       0.80      0.77      0.78       146\n",
      "           1       0.63      0.67      0.65        85\n",
      "\n",
      "    accuracy                           0.73       231\n",
      "   macro avg       0.71      0.72      0.72       231\n",
      "weighted avg       0.74      0.73      0.73       231\n",
      "\n"
     ]
    }
   ],
   "source": [
    "cm_m1 = confusion_matrix(y_test,ypred_m1)\n",
    "print(cm_m1)\n",
    "print(classification_report(y_test,ypred_m1))"
   ]
  },
  {
   "cell_type": "code",
   "execution_count": null,
   "id": "a9eec03d",
   "metadata": {},
   "outputs": [],
   "source": []
  },
  {
   "cell_type": "code",
   "execution_count": null,
   "id": "7589abe3",
   "metadata": {},
   "outputs": [],
   "source": []
  }
 ],
 "metadata": {
  "kernelspec": {
   "display_name": "Python 3 (ipykernel)",
   "language": "python",
   "name": "python3"
  },
  "language_info": {
   "codemirror_mode": {
    "name": "ipython",
    "version": 3
   },
   "file_extension": ".py",
   "mimetype": "text/x-python",
   "name": "python",
   "nbconvert_exporter": "python",
   "pygments_lexer": "ipython3",
   "version": "3.9.7"
  }
 },
 "nbformat": 4,
 "nbformat_minor": 5
}
